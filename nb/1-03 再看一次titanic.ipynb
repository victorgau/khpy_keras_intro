{
  "nbformat": 4,
  "nbformat_minor": 0,
  "metadata": {
    "kernelspec": {
      "display_name": "Python 3",
      "language": "python",
      "name": "python3"
    },
    "language_info": {
      "codemirror_mode": {
        "name": "ipython",
        "version": 3
      },
      "file_extension": ".py",
      "mimetype": "text/x-python",
      "name": "python",
      "nbconvert_exporter": "python",
      "pygments_lexer": "ipython3",
      "version": "3.7.1"
    },
    "colab": {
      "name": "5-03 再看一次titanic.ipynb",
      "provenance": [],
      "collapsed_sections": [
        "6upVVoGXSrxI",
        "DwfOYtY1SrxM",
        "bLhi2qc_SrxO"
      ]
    }
  },
  "cells": [
    {
      "cell_type": "markdown",
      "metadata": {
        "id": "WMs3ZrDsSrwH",
        "colab_type": "text"
      },
      "source": [
        "<a href=\"https://colab.research.google.com/github/victorgau/Python_ML_DL/blob/master/4-02%20titanic.ipynb\" target=\"_parent\"><img src=\"https://colab.research.google.com/assets/colab-badge.svg\" alt=\"Open In Colab\"/></a>"
      ]
    },
    {
      "cell_type": "markdown",
      "metadata": {
        "id": "kzJHzUZcSrwI",
        "colab_type": "text"
      },
      "source": [
        "# TITANIC生存分析"
      ]
    },
    {
      "cell_type": "code",
      "metadata": {
        "id": "6C_KylW4SrwJ",
        "colab_type": "code",
        "colab": {}
      },
      "source": [
        "!wget https://github.com/victorgau/Python_ML_DL/raw/master/kaggle/titanic/train.csv -o /dev/null\n",
        "!wget https://github.com/victorgau/Python_ML_DL/raw/master/kaggle/titanic/test.csv -o /dev/null\n",
        "!wget https://github.com/victorgau/Python_ML_DL/raw/master/kaggle/titanic/gender_submission.csv -o /dev/null"
      ],
      "execution_count": 0,
      "outputs": []
    },
    {
      "cell_type": "markdown",
      "metadata": {
        "id": "Y48hiBS-SrwO",
        "colab_type": "text"
      },
      "source": [
        "## 載入需要的模組"
      ]
    },
    {
      "cell_type": "code",
      "metadata": {
        "id": "u-if1werSrwO",
        "colab_type": "code",
        "colab": {}
      },
      "source": [
        "from sklearn.ensemble import RandomForestClassifier\n",
        "from sklearn.model_selection import cross_val_score\n",
        "\n",
        "import pandas as pd"
      ],
      "execution_count": 0,
      "outputs": []
    },
    {
      "cell_type": "markdown",
      "metadata": {
        "id": "E0unwzLVSrwS",
        "colab_type": "text"
      },
      "source": [
        "## 讀入資料"
      ]
    },
    {
      "cell_type": "code",
      "metadata": {
        "id": "U5u2VOLKSrwS",
        "colab_type": "code",
        "colab": {}
      },
      "source": [
        "train = pd.read_csv(\"train.csv\")\n",
        "test = pd.read_csv(\"test.csv\")\n",
        "submit = pd.read_csv('gender_submission.csv')"
      ],
      "execution_count": 0,
      "outputs": []
    },
    {
      "cell_type": "markdown",
      "metadata": {
        "id": "3tsCqNK6SrwW",
        "colab_type": "text"
      },
      "source": [
        "## 先看一下資料內容"
      ]
    },
    {
      "cell_type": "code",
      "metadata": {
        "id": "KhBQn4SMSrwW",
        "colab_type": "code",
        "colab": {}
      },
      "source": [
        "train.head()"
      ],
      "execution_count": 0,
      "outputs": []
    },
    {
      "cell_type": "markdown",
      "metadata": {
        "id": "8AkFUcBzSrwZ",
        "colab_type": "text"
      },
      "source": [
        "## 看看缺失值的狀況"
      ]
    },
    {
      "cell_type": "code",
      "metadata": {
        "id": "fE3Ce8EeSrwa",
        "colab_type": "code",
        "colab": {}
      },
      "source": [
        "train.info()"
      ],
      "execution_count": 0,
      "outputs": []
    },
    {
      "cell_type": "code",
      "metadata": {
        "id": "HdE6uFVwSrwc",
        "colab_type": "code",
        "colab": {}
      },
      "source": [
        "test.info()"
      ],
      "execution_count": 0,
      "outputs": []
    },
    {
      "cell_type": "markdown",
      "metadata": {
        "id": "7WT0e4_1Srwf",
        "colab_type": "text"
      },
      "source": [
        "## 看看資料的分布狀況"
      ]
    },
    {
      "cell_type": "code",
      "metadata": {
        "id": "JdqlcJ0fSrwf",
        "colab_type": "code",
        "colab": {}
      },
      "source": [
        "train.describe()"
      ],
      "execution_count": 0,
      "outputs": []
    },
    {
      "cell_type": "code",
      "metadata": {
        "id": "QUsbTI-6Srwi",
        "colab_type": "code",
        "colab": {}
      },
      "source": [
        "test.describe()"
      ],
      "execution_count": 0,
      "outputs": []
    },
    {
      "cell_type": "markdown",
      "metadata": {
        "id": "b5lY-MOlSrwk",
        "colab_type": "text"
      },
      "source": [
        "## 從上面觀察的結果，選取自己想要的特徵"
      ]
    },
    {
      "cell_type": "code",
      "metadata": {
        "id": "xN1DaTU2Srwk",
        "colab_type": "code",
        "colab": {}
      },
      "source": [
        "selected_features = ['Pclass', 'Age', 'SibSp', 'Parch', 'Fare', 'Sex', 'Embarked']"
      ],
      "execution_count": 0,
      "outputs": []
    },
    {
      "cell_type": "code",
      "metadata": {
        "id": "PoxIcgbXSrwm",
        "colab_type": "code",
        "colab": {}
      },
      "source": [
        "X_train = train[selected_features]"
      ],
      "execution_count": 0,
      "outputs": []
    },
    {
      "cell_type": "code",
      "metadata": {
        "id": "4yyV84JQSrwr",
        "colab_type": "code",
        "colab": {}
      },
      "source": [
        "y_train = train['Survived']"
      ],
      "execution_count": 0,
      "outputs": []
    },
    {
      "cell_type": "code",
      "metadata": {
        "id": "nHqQ91wOSrwt",
        "colab_type": "code",
        "colab": {}
      },
      "source": [
        "X_test = test[selected_features]"
      ],
      "execution_count": 0,
      "outputs": []
    },
    {
      "cell_type": "markdown",
      "metadata": {
        "id": "qiGcV4pQSrwv",
        "colab_type": "text"
      },
      "source": [
        "## 處理缺失值"
      ]
    },
    {
      "cell_type": "code",
      "metadata": {
        "id": "fI5pC8AqSrww",
        "colab_type": "code",
        "colab": {}
      },
      "source": [
        "X_train.info()"
      ],
      "execution_count": 0,
      "outputs": []
    },
    {
      "cell_type": "code",
      "metadata": {
        "id": "4OuiJ2qCSrwy",
        "colab_type": "code",
        "colab": {}
      },
      "source": [
        "X_test.info()"
      ],
      "execution_count": 0,
      "outputs": []
    },
    {
      "cell_type": "code",
      "metadata": {
        "id": "f1akfbaMSrw0",
        "colab_type": "code",
        "colab": {}
      },
      "source": [
        "X_train['Age'].fillna(X_train['Age'].mean(), inplace=True)\n",
        "X_train['Embarked'].fillna('S', inplace=True)\n",
        "X_test['Age'].fillna(X_test['Age'].mean(), inplace=True)\n",
        "X_test['Fare'].fillna(X_test['Fare'].mean(), inplace=True)"
      ],
      "execution_count": 0,
      "outputs": []
    },
    {
      "cell_type": "code",
      "metadata": {
        "id": "idvffIn6Srw3",
        "colab_type": "code",
        "colab": {}
      },
      "source": [
        "X_train.info()"
      ],
      "execution_count": 0,
      "outputs": []
    },
    {
      "cell_type": "markdown",
      "metadata": {
        "id": "pj3iZn30Srw6",
        "colab_type": "text"
      },
      "source": [
        "## 將字串類型的類別資料做轉換"
      ]
    },
    {
      "cell_type": "code",
      "metadata": {
        "id": "_AhcbQ6MSrw7",
        "colab_type": "code",
        "colab": {}
      },
      "source": [
        "X_train = pd.get_dummies(X_train)"
      ],
      "execution_count": 0,
      "outputs": []
    },
    {
      "cell_type": "code",
      "metadata": {
        "id": "YZivi1dUSrw9",
        "colab_type": "code",
        "colab": {}
      },
      "source": [
        "X_train.head()"
      ],
      "execution_count": 0,
      "outputs": []
    },
    {
      "cell_type": "code",
      "metadata": {
        "id": "k0XKkDsJSrw_",
        "colab_type": "code",
        "colab": {}
      },
      "source": [
        "X_test = pd.get_dummies(X_test)"
      ],
      "execution_count": 0,
      "outputs": []
    },
    {
      "cell_type": "code",
      "metadata": {
        "id": "YJzSZavmSrxB",
        "colab_type": "code",
        "colab": {}
      },
      "source": [
        "X_test.head()"
      ],
      "execution_count": 0,
      "outputs": []
    },
    {
      "cell_type": "markdown",
      "metadata": {
        "id": "LozWkXcMSrxD",
        "colab_type": "text"
      },
      "source": [
        "## 使用 Random Forest 來做分類"
      ]
    },
    {
      "cell_type": "code",
      "metadata": {
        "id": "WkAdFo3FSrxD",
        "colab_type": "code",
        "colab": {}
      },
      "source": [
        "rfc = RandomForestClassifier()"
      ],
      "execution_count": 0,
      "outputs": []
    },
    {
      "cell_type": "markdown",
      "metadata": {
        "id": "-jkBpGtRSrxF",
        "colab_type": "text"
      },
      "source": [
        "## 使用 K-Fold Cross Validation 看一下分類的準確度"
      ]
    },
    {
      "cell_type": "code",
      "metadata": {
        "id": "cb_XOq-gSrxG",
        "colab_type": "code",
        "colab": {}
      },
      "source": [
        "cross_val_score(rfc, X_train, y_train, cv=10).mean()"
      ],
      "execution_count": 0,
      "outputs": []
    },
    {
      "cell_type": "markdown",
      "metadata": {
        "id": "6upVVoGXSrxI",
        "colab_type": "text"
      },
      "source": [
        "## 訓練模型"
      ]
    },
    {
      "cell_type": "code",
      "metadata": {
        "id": "ruMzLb6fSrxJ",
        "colab_type": "code",
        "colab": {}
      },
      "source": [
        "rfc.fit(X_train, y_train)"
      ],
      "execution_count": 0,
      "outputs": []
    },
    {
      "cell_type": "markdown",
      "metadata": {
        "id": "DwfOYtY1SrxM",
        "colab_type": "text"
      },
      "source": [
        "## 用訓練好的模型來做預測"
      ]
    },
    {
      "cell_type": "code",
      "metadata": {
        "id": "lH2iXoq0SrxM",
        "colab_type": "code",
        "colab": {}
      },
      "source": [
        "survived_predict = rfc.predict(X_test)"
      ],
      "execution_count": 0,
      "outputs": []
    },
    {
      "cell_type": "markdown",
      "metadata": {
        "id": "bLhi2qc_SrxO",
        "colab_type": "text"
      },
      "source": [
        "## 將結果輸出成規定的格式"
      ]
    },
    {
      "cell_type": "code",
      "metadata": {
        "id": "rm13HUKPSrxP",
        "colab_type": "code",
        "colab": {}
      },
      "source": [
        "submission=pd.DataFrame({'PassengerId':test['PassengerId'], 'Survived':survived_predict})"
      ],
      "execution_count": 0,
      "outputs": []
    },
    {
      "cell_type": "code",
      "metadata": {
        "id": "wHlPVvd2SrxQ",
        "colab_type": "code",
        "colab": {}
      },
      "source": [
        "submission.to_csv('submission.csv', index=False)"
      ],
      "execution_count": 0,
      "outputs": []
    },
    {
      "cell_type": "markdown",
      "metadata": {
        "id": "3nPB53BpSrxS",
        "colab_type": "text"
      },
      "source": [
        "## 試試看 XGBOOST"
      ]
    },
    {
      "cell_type": "code",
      "metadata": {
        "id": "7Zjsj0LnSrxT",
        "colab_type": "code",
        "colab": {}
      },
      "source": [
        "from xgboost import XGBClassifier"
      ],
      "execution_count": 0,
      "outputs": []
    },
    {
      "cell_type": "code",
      "metadata": {
        "id": "npSR9HYbSrxV",
        "colab_type": "code",
        "colab": {}
      },
      "source": [
        "xgbc = XGBClassifier()"
      ],
      "execution_count": 0,
      "outputs": []
    },
    {
      "cell_type": "code",
      "metadata": {
        "id": "qEUywauvSrxX",
        "colab_type": "code",
        "colab": {}
      },
      "source": [
        "cross_val_score(xgbc, X_train, y_train, cv=10).mean()"
      ],
      "execution_count": 0,
      "outputs": []
    },
    {
      "cell_type": "code",
      "metadata": {
        "id": "q10CcJlXSrxY",
        "colab_type": "code",
        "colab": {}
      },
      "source": [
        "xgbc.fit(X_train, y_train)"
      ],
      "execution_count": 0,
      "outputs": []
    },
    {
      "cell_type": "code",
      "metadata": {
        "id": "tQAzl76oSrxb",
        "colab_type": "code",
        "colab": {}
      },
      "source": [
        "survived_predict = xgbc.predict(X_test)"
      ],
      "execution_count": 0,
      "outputs": []
    },
    {
      "cell_type": "code",
      "metadata": {
        "id": "AAziMhVdSrxe",
        "colab_type": "code",
        "colab": {}
      },
      "source": [
        "submission=pd.DataFrame({'PassengerId':test['PassengerId'], 'Survived':survived_predict})"
      ],
      "execution_count": 0,
      "outputs": []
    },
    {
      "cell_type": "code",
      "metadata": {
        "id": "7qZwJtxhSrxg",
        "colab_type": "code",
        "colab": {}
      },
      "source": [
        "submission.to_csv('submission.csv', index=False)"
      ],
      "execution_count": 0,
      "outputs": []
    },
    {
      "cell_type": "markdown",
      "metadata": {
        "id": "36DMEkFqSxnb",
        "colab_type": "text"
      },
      "source": [
        "## 試試看使用 Keras"
      ]
    },
    {
      "cell_type": "code",
      "metadata": {
        "id": "5SXDCom7Sw1q",
        "colab_type": "code",
        "colab": {}
      },
      "source": [
        "from keras.models import Sequential\n",
        "from keras.layers import Dense, Dropout"
      ],
      "execution_count": 0,
      "outputs": []
    },
    {
      "cell_type": "code",
      "metadata": {
        "id": "u8tggz42TWBk",
        "colab_type": "code",
        "colab": {}
      },
      "source": [
        "model = Sequential()"
      ],
      "execution_count": 0,
      "outputs": []
    },
    {
      "cell_type": "code",
      "metadata": {
        "id": "Ozmh5PV6TYk_",
        "colab_type": "code",
        "colab": {}
      },
      "source": [
        "model.add(Dense(units=40, input_dim=10, kernel_initializer='uniform', activation='relu'))\n",
        "model.add(Dense(units=30, kernel_initializer='uniform', activation='relu'))\n",
        "model.add(Dense(units=1, kernel_initializer='uniform', activation='sigmoid'))"
      ],
      "execution_count": 0,
      "outputs": []
    },
    {
      "cell_type": "code",
      "metadata": {
        "id": "nX9CywJiUWCc",
        "colab_type": "code",
        "colab": {}
      },
      "source": [
        "model.compile(loss='binary_crossentropy',optimizer='adam',metrics=['accuracy'])"
      ],
      "execution_count": 0,
      "outputs": []
    },
    {
      "cell_type": "code",
      "metadata": {
        "id": "bVFzWXn9UhK4",
        "colab_type": "code",
        "colab": {}
      },
      "source": [
        "train_history = model.fit(x=X_train, y=y_train, validation_split=0.1, epochs=30, batch_size=30)"
      ],
      "execution_count": 0,
      "outputs": []
    },
    {
      "cell_type": "code",
      "metadata": {
        "id": "N1YG4JtbU7c0",
        "colab_type": "code",
        "colab": {}
      },
      "source": [
        "model.predict_classes(X_test)"
      ],
      "execution_count": 0,
      "outputs": []
    }
  ]
}