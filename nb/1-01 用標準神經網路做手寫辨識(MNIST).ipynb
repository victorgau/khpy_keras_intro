{
 "cells": [
  {
   "cell_type": "markdown",
   "metadata": {
    "colab_type": "text",
    "id": "d17omi6DyvKE"
   },
   "source": [
    "# 用標準神經網路做手寫辨識"
   ]
  },
  {
   "cell_type": "code",
   "execution_count": 1,
   "metadata": {
    "colab": {},
    "colab_type": "code",
    "id": "XcUlZwTXyvKR"
   },
   "outputs": [],
   "source": [
    "%matplotlib inline\n",
    "import numpy as np\n",
    "import matplotlib.pyplot as plt"
   ]
  },
  {
   "cell_type": "markdown",
   "metadata": {
    "colab_type": "text",
    "id": "ojB56FsxyvKX"
   },
   "source": [
    "## 使用 MNIST 數據庫\n",
    "\n",
    "MNIST 是由CNN創始人Yann LeCun的團隊蒐集的資料集，裏面包含了0-9的手寫數字，類似 Scikit-Learn裡面的 digits dataset，只是圖形的解析度是 (28, 28)。訓練集有60000筆資料，測試集有10000筆資料。"
   ]
  },
  {
   "cell_type": "markdown",
   "metadata": {
    "colab_type": "text",
    "id": "B-fghbFRyvKY"
   },
   "source": [
    "### 由 Keras 載入 MNIST"
   ]
  },
  {
   "cell_type": "code",
   "execution_count": 2,
   "metadata": {
    "colab": {
     "base_uri": "https://localhost:8080/",
     "height": 34
    },
    "colab_type": "code",
    "id": "KmWLoiv5yvKa",
    "outputId": "f64af9c3-5faf-45a5-8b34-39d696f17b14"
   },
   "outputs": [],
   "source": [
    "from tensorflow.keras.datasets import mnist"
   ]
  },
  {
   "cell_type": "code",
   "execution_count": 3,
   "metadata": {
    "colab": {},
    "colab_type": "code",
    "id": "b-2ZWONnyvKf"
   },
   "outputs": [
    {
     "name": "stdout",
     "output_type": "stream",
     "text": [
      "Downloading data from https://storage.googleapis.com/tensorflow/tf-keras-datasets/mnist.npz\n",
      "11493376/11490434 [==============================] - 4s 0us/step\n",
      "11501568/11490434 [==============================] - 4s 0us/step\n"
     ]
    }
   ],
   "source": [
    "(x_train, y_train), (x_test, y_test) = mnist.load_data()"
   ]
  },
  {
   "cell_type": "code",
   "execution_count": 4,
   "metadata": {
    "colab": {
     "base_uri": "https://localhost:8080/",
     "height": 34
    },
    "colab_type": "code",
    "id": "1rSaMTo7yvKl",
    "outputId": "441497c4-5355-451e-c029-5f4a97757f05"
   },
   "outputs": [
    {
     "data": {
      "text/plain": [
       "60000"
      ]
     },
     "execution_count": 4,
     "metadata": {},
     "output_type": "execute_result"
    }
   ],
   "source": [
    "len(x_train)"
   ]
  },
  {
   "cell_type": "code",
   "execution_count": 5,
   "metadata": {
    "colab": {
     "base_uri": "https://localhost:8080/",
     "height": 34
    },
    "colab_type": "code",
    "id": "ezEwuCBLyvKo",
    "outputId": "383535f2-db4e-4b99-cbb8-6f2080ec198e"
   },
   "outputs": [
    {
     "data": {
      "text/plain": [
       "10000"
      ]
     },
     "execution_count": 5,
     "metadata": {},
     "output_type": "execute_result"
    }
   ],
   "source": [
    "len(x_test)"
   ]
  },
  {
   "cell_type": "markdown",
   "metadata": {
    "colab_type": "text",
    "id": "zcGUDaGKyvKs"
   },
   "source": [
    "### 檢查數據集的內容"
   ]
  },
  {
   "cell_type": "code",
   "execution_count": 6,
   "metadata": {
    "colab": {
     "base_uri": "https://localhost:8080/",
     "height": 34
    },
    "colab_type": "code",
    "id": "8QZwaQX8yvKs",
    "outputId": "ac4376f0-3ffe-4233-a145-240d1f2ca7b9"
   },
   "outputs": [
    {
     "data": {
      "text/plain": [
       "(28, 28)"
      ]
     },
     "execution_count": 6,
     "metadata": {},
     "output_type": "execute_result"
    }
   ],
   "source": [
    "x_train[0].shape"
   ]
  },
  {
   "cell_type": "code",
   "execution_count": 7,
   "metadata": {
    "colab": {
     "base_uri": "https://localhost:8080/",
     "height": 1000
    },
    "colab_type": "code",
    "id": "BYLvPtKCzZMi",
    "outputId": "3b3d7ebb-2b17-45b9-a58f-55d78e4fa735"
   },
   "outputs": [
    {
     "data": {
      "text/plain": [
       "array([[  0,   0,   0,   0,   0,   0,   0,   0,   0,   0,   0,   0,   0,\n",
       "          0,   0,   0,   0,   0,   0,   0,   0,   0,   0,   0,   0,   0,\n",
       "          0,   0],\n",
       "       [  0,   0,   0,   0,   0,   0,   0,   0,   0,   0,   0,   0,   0,\n",
       "          0,   0,   0,   0,   0,   0,   0,   0,   0,   0,   0,   0,   0,\n",
       "          0,   0],\n",
       "       [  0,   0,   0,   0,   0,   0,   0,   0,   0,   0,   0,   0,   0,\n",
       "          0,   0,   0,   0,   0,   0,   0,   0,   0,   0,   0,   0,   0,\n",
       "          0,   0],\n",
       "       [  0,   0,   0,   0,   0,   0,   0,   0,   0,   0,   0,   0,   0,\n",
       "          0,   0,   0,   0,   0,   0,   0,   0,   0,   0,   0,   0,   0,\n",
       "          0,   0],\n",
       "       [  0,   0,   0,   0,   0,   0,   0,   0,   0,   0,   0,   0,   0,\n",
       "          0,   0,   0,   0,   0,   0,   0,   0,   0,   0,   0,   0,   0,\n",
       "          0,   0],\n",
       "       [  0,   0,   0,   0,   0,   0,   0,   0,   0,   0,   0,   0,   3,\n",
       "         18,  18,  18, 126, 136, 175,  26, 166, 255, 247, 127,   0,   0,\n",
       "          0,   0],\n",
       "       [  0,   0,   0,   0,   0,   0,   0,   0,  30,  36,  94, 154, 170,\n",
       "        253, 253, 253, 253, 253, 225, 172, 253, 242, 195,  64,   0,   0,\n",
       "          0,   0],\n",
       "       [  0,   0,   0,   0,   0,   0,   0,  49, 238, 253, 253, 253, 253,\n",
       "        253, 253, 253, 253, 251,  93,  82,  82,  56,  39,   0,   0,   0,\n",
       "          0,   0],\n",
       "       [  0,   0,   0,   0,   0,   0,   0,  18, 219, 253, 253, 253, 253,\n",
       "        253, 198, 182, 247, 241,   0,   0,   0,   0,   0,   0,   0,   0,\n",
       "          0,   0],\n",
       "       [  0,   0,   0,   0,   0,   0,   0,   0,  80, 156, 107, 253, 253,\n",
       "        205,  11,   0,  43, 154,   0,   0,   0,   0,   0,   0,   0,   0,\n",
       "          0,   0],\n",
       "       [  0,   0,   0,   0,   0,   0,   0,   0,   0,  14,   1, 154, 253,\n",
       "         90,   0,   0,   0,   0,   0,   0,   0,   0,   0,   0,   0,   0,\n",
       "          0,   0],\n",
       "       [  0,   0,   0,   0,   0,   0,   0,   0,   0,   0,   0, 139, 253,\n",
       "        190,   2,   0,   0,   0,   0,   0,   0,   0,   0,   0,   0,   0,\n",
       "          0,   0],\n",
       "       [  0,   0,   0,   0,   0,   0,   0,   0,   0,   0,   0,  11, 190,\n",
       "        253,  70,   0,   0,   0,   0,   0,   0,   0,   0,   0,   0,   0,\n",
       "          0,   0],\n",
       "       [  0,   0,   0,   0,   0,   0,   0,   0,   0,   0,   0,   0,  35,\n",
       "        241, 225, 160, 108,   1,   0,   0,   0,   0,   0,   0,   0,   0,\n",
       "          0,   0],\n",
       "       [  0,   0,   0,   0,   0,   0,   0,   0,   0,   0,   0,   0,   0,\n",
       "         81, 240, 253, 253, 119,  25,   0,   0,   0,   0,   0,   0,   0,\n",
       "          0,   0],\n",
       "       [  0,   0,   0,   0,   0,   0,   0,   0,   0,   0,   0,   0,   0,\n",
       "          0,  45, 186, 253, 253, 150,  27,   0,   0,   0,   0,   0,   0,\n",
       "          0,   0],\n",
       "       [  0,   0,   0,   0,   0,   0,   0,   0,   0,   0,   0,   0,   0,\n",
       "          0,   0,  16,  93, 252, 253, 187,   0,   0,   0,   0,   0,   0,\n",
       "          0,   0],\n",
       "       [  0,   0,   0,   0,   0,   0,   0,   0,   0,   0,   0,   0,   0,\n",
       "          0,   0,   0,   0, 249, 253, 249,  64,   0,   0,   0,   0,   0,\n",
       "          0,   0],\n",
       "       [  0,   0,   0,   0,   0,   0,   0,   0,   0,   0,   0,   0,   0,\n",
       "          0,  46, 130, 183, 253, 253, 207,   2,   0,   0,   0,   0,   0,\n",
       "          0,   0],\n",
       "       [  0,   0,   0,   0,   0,   0,   0,   0,   0,   0,   0,   0,  39,\n",
       "        148, 229, 253, 253, 253, 250, 182,   0,   0,   0,   0,   0,   0,\n",
       "          0,   0],\n",
       "       [  0,   0,   0,   0,   0,   0,   0,   0,   0,   0,  24, 114, 221,\n",
       "        253, 253, 253, 253, 201,  78,   0,   0,   0,   0,   0,   0,   0,\n",
       "          0,   0],\n",
       "       [  0,   0,   0,   0,   0,   0,   0,   0,  23,  66, 213, 253, 253,\n",
       "        253, 253, 198,  81,   2,   0,   0,   0,   0,   0,   0,   0,   0,\n",
       "          0,   0],\n",
       "       [  0,   0,   0,   0,   0,   0,  18, 171, 219, 253, 253, 253, 253,\n",
       "        195,  80,   9,   0,   0,   0,   0,   0,   0,   0,   0,   0,   0,\n",
       "          0,   0],\n",
       "       [  0,   0,   0,   0,  55, 172, 226, 253, 253, 253, 253, 244, 133,\n",
       "         11,   0,   0,   0,   0,   0,   0,   0,   0,   0,   0,   0,   0,\n",
       "          0,   0],\n",
       "       [  0,   0,   0,   0, 136, 253, 253, 253, 212, 135, 132,  16,   0,\n",
       "          0,   0,   0,   0,   0,   0,   0,   0,   0,   0,   0,   0,   0,\n",
       "          0,   0],\n",
       "       [  0,   0,   0,   0,   0,   0,   0,   0,   0,   0,   0,   0,   0,\n",
       "          0,   0,   0,   0,   0,   0,   0,   0,   0,   0,   0,   0,   0,\n",
       "          0,   0],\n",
       "       [  0,   0,   0,   0,   0,   0,   0,   0,   0,   0,   0,   0,   0,\n",
       "          0,   0,   0,   0,   0,   0,   0,   0,   0,   0,   0,   0,   0,\n",
       "          0,   0],\n",
       "       [  0,   0,   0,   0,   0,   0,   0,   0,   0,   0,   0,   0,   0,\n",
       "          0,   0,   0,   0,   0,   0,   0,   0,   0,   0,   0,   0,   0,\n",
       "          0,   0]], dtype=uint8)"
      ]
     },
     "execution_count": 7,
     "metadata": {},
     "output_type": "execute_result"
    }
   ],
   "source": [
    "x_train[0]"
   ]
  },
  {
   "cell_type": "code",
   "execution_count": 8,
   "metadata": {
    "colab": {
     "base_uri": "https://localhost:8080/",
     "height": 282
    },
    "colab_type": "code",
    "id": "M1ZEGxPqyvKv",
    "outputId": "61dbb602-9772-4e7d-ee3e-ea96ce6415d6"
   },
   "outputs": [
    {
     "data": {
      "text/plain": [
       "<matplotlib.image.AxesImage at 0x22d919ffd90>"
      ]
     },
     "execution_count": 8,
     "metadata": {},
     "output_type": "execute_result"
    },
    {
     "data": {
      "image/png": "[encoded data removed]",
      "text/plain": [
       "<Figure size 432x288 with 1 Axes>"
      ]
     },
     "metadata": {
      "needs_background": "light"
     },
     "output_type": "display_data"
    }
   ],
   "source": [
    "plt.imshow(x_train[0], cmap='gray_r')"
   ]
  },
  {
   "cell_type": "code",
   "execution_count": 9,
   "metadata": {
    "colab": {
     "base_uri": "https://localhost:8080/",
     "height": 34
    },
    "colab_type": "code",
    "id": "USxjEJDByvKy",
    "outputId": "b6fee444-37d6-469e-fd21-ff32ce453ac5"
   },
   "outputs": [
    {
     "data": {
      "text/plain": [
       "5"
      ]
     },
     "execution_count": 9,
     "metadata": {},
     "output_type": "execute_result"
    }
   ],
   "source": [
    "y_train[0]"
   ]
  },
  {
   "cell_type": "markdown",
   "metadata": {
    "colab_type": "text",
    "id": "U9NUtyLxyvK0"
   },
   "source": [
    "### 輸入格式整理\n",
    "\n",
    "將資料從二維 (28, 28) 的格式，轉乘一維 (784, )的向量。"
   ]
  },
  {
   "cell_type": "code",
   "execution_count": 10,
   "metadata": {
    "colab": {},
    "colab_type": "code",
    "id": "_yBRCKSByvK1"
   },
   "outputs": [],
   "source": [
    "x_train = x_train.reshape(60000, 784)\n",
    "x_test = x_test.reshape(10000, 784)"
   ]
  },
  {
   "cell_type": "markdown",
   "metadata": {
    "colab_type": "text",
    "id": "EnuNtxcjNC33"
   },
   "source": [
    "### 使用 SVM 做做看？\n",
    "\n",
    "隨著資料集變大，SVM的處理能力會變差。我們常常需要先做特徵擷取的動作再使用SVM來做分類。\n",
    "\n",
    "e.g., Dlib的人臉辨識中，使用HOG+SVM來做人臉偵測。"
   ]
  },
  {
   "cell_type": "code",
   "execution_count": 11,
   "metadata": {
    "colab": {},
    "colab_type": "code",
    "id": "hThy9B8jMziy"
   },
   "outputs": [
    {
     "ename": "ModuleNotFoundError",
     "evalue": "No module named 'sklearn'",
     "output_type": "error",
     "traceback": [
      "\u001b[1;31m---------------------------------------------------------------------------\u001b[0m",
      "\u001b[1;31mModuleNotFoundError\u001b[0m                       Traceback (most recent call last)",
      "\u001b[1;32m<ipython-input-11-68bdd93b2fab>\u001b[0m in \u001b[0;36m<module>\u001b[1;34m\u001b[0m\n\u001b[1;32m----> 1\u001b[1;33m \u001b[1;32mfrom\u001b[0m \u001b[0msklearn\u001b[0m\u001b[1;33m.\u001b[0m\u001b[0msvm\u001b[0m \u001b[1;32mimport\u001b[0m \u001b[0mSVC\u001b[0m\u001b[1;33m\u001b[0m\u001b[1;33m\u001b[0m\u001b[0m\n\u001b[0m\u001b[0;32m      2\u001b[0m \u001b[1;32mfrom\u001b[0m \u001b[0msklearn\u001b[0m\u001b[1;33m.\u001b[0m\u001b[0mmodel_selection\u001b[0m \u001b[1;32mimport\u001b[0m \u001b[0mcross_val_score\u001b[0m\u001b[1;33m\u001b[0m\u001b[1;33m\u001b[0m\u001b[0m\n",
      "\u001b[1;31mModuleNotFoundError\u001b[0m: No module named 'sklearn'"
     ]
    }
   ],
   "source": [
    "from sklearn.svm import SVC\n",
    "from sklearn.model_selection import cross_val_score"
   ]
  },
  {
   "cell_type": "code",
   "execution_count": 12,
   "metadata": {
    "colab": {},
    "colab_type": "code",
    "id": "oAYn8AyKM2fH"
   },
   "outputs": [
    {
     "ename": "NameError",
     "evalue": "name 'SVC' is not defined",
     "output_type": "error",
     "traceback": [
      "\u001b[1;31m---------------------------------------------------------------------------\u001b[0m",
      "\u001b[1;31mNameError\u001b[0m                                 Traceback (most recent call last)",
      "\u001b[1;32m<ipython-input-12-92f37efbac38>\u001b[0m in \u001b[0;36m<module>\u001b[1;34m\u001b[0m\n\u001b[1;32m----> 1\u001b[1;33m \u001b[0mclf\u001b[0m \u001b[1;33m=\u001b[0m \u001b[0mSVC\u001b[0m\u001b[1;33m(\u001b[0m\u001b[0mgamma\u001b[0m\u001b[1;33m=\u001b[0m\u001b[1;36m0.001\u001b[0m\u001b[1;33m,\u001b[0m \u001b[0mC\u001b[0m\u001b[1;33m=\u001b[0m\u001b[1;36m100.\u001b[0m\u001b[1;33m)\u001b[0m\u001b[1;33m\u001b[0m\u001b[1;33m\u001b[0m\u001b[0m\n\u001b[0m",
      "\u001b[1;31mNameError\u001b[0m: name 'SVC' is not defined"
     ]
    }
   ],
   "source": [
    "clf = SVC(gamma=0.001, C=100.)"
   ]
  },
  {
   "cell_type": "code",
   "execution_count": null,
   "metadata": {
    "colab": {},
    "colab_type": "code",
    "id": "QaPMlcRcM9oq"
   },
   "outputs": [],
   "source": [
    "cross_val_score(clf, x_train, y_train, cv=10).mean()"
   ]
  },
  {
   "cell_type": "code",
   "execution_count": null,
   "metadata": {
    "colab": {},
    "colab_type": "code",
    "id": "MKif41J8NAN0"
   },
   "outputs": [],
   "source": [
    "# Training the model\n",
    "clf.fit( x_train, y_train) "
   ]
  },
  {
   "cell_type": "markdown",
   "metadata": {
    "colab_type": "text",
    "id": "Tv8q1T_hyvK5"
   },
   "source": [
    "### 輸出格式整理\n",
    "\n",
    "將輸出格式轉換成 One-Hot Encoding (10, )。"
   ]
  },
  {
   "cell_type": "code",
   "execution_count": null,
   "metadata": {
    "colab": {},
    "colab_type": "code",
    "id": "a0LLH3vFyvK6"
   },
   "outputs": [],
   "source": [
    "from keras.utils import np_utils"
   ]
  },
  {
   "cell_type": "code",
   "execution_count": null,
   "metadata": {
    "colab": {},
    "colab_type": "code",
    "id": "ENbKcvJ3yvK8"
   },
   "outputs": [],
   "source": [
    "y_train = np_utils.to_categorical(y_train,10)"
   ]
  },
  {
   "cell_type": "code",
   "execution_count": null,
   "metadata": {
    "colab": {},
    "colab_type": "code",
    "id": "sQXYlv8MyvK-"
   },
   "outputs": [],
   "source": [
    "y_test = np_utils.to_categorical(y_test,10)"
   ]
  },
  {
   "cell_type": "markdown",
   "metadata": {
    "colab_type": "text",
    "id": "l6jRrppa3DF_"
   },
   "source": [
    "檢視第一筆資料的格式"
   ]
  },
  {
   "cell_type": "code",
   "execution_count": null,
   "metadata": {
    "colab": {
     "base_uri": "https://localhost:8080/",
     "height": 34
    },
    "colab_type": "code",
    "id": "C2w39kphyvLB",
    "outputId": "0e2d4a7f-644a-46fb-d411-106e470b0ada"
   },
   "outputs": [],
   "source": [
    "y_train[0]"
   ]
  },
  {
   "cell_type": "markdown",
   "metadata": {
    "colab_type": "text",
    "id": "1UYo4xPXyvLE"
   },
   "source": [
    "## 建構神經網路模型"
   ]
  },
  {
   "cell_type": "code",
   "execution_count": null,
   "metadata": {
    "colab": {},
    "colab_type": "code",
    "id": "94tOdOPwyvLE"
   },
   "outputs": [],
   "source": [
    "from tensorflow.keras.models import Sequential\n",
    "from tensorflow.keras.layers import Dense, Activation\n",
    "from tensorflow.keras.optimizers import Adam"
   ]
  },
  {
   "cell_type": "markdown",
   "metadata": {
    "colab_type": "text",
    "id": "zi8pTCPwyvLG"
   },
   "source": [
    "### 使用 Sequential API 建構網路"
   ]
  },
  {
   "cell_type": "code",
   "execution_count": null,
   "metadata": {
    "colab": {},
    "colab_type": "code",
    "id": "mu0UN_7xyvLH"
   },
   "outputs": [],
   "source": [
    "model = Sequential()"
   ]
  },
  {
   "cell_type": "markdown",
   "metadata": {
    "colab_type": "text",
    "id": "i7rV7I9Cnetc"
   },
   "source": [
    "### 使用model.add()加入網路層"
   ]
  },
  {
   "cell_type": "markdown",
   "metadata": {},
   "source": [
    "---"
   ]
  },
  {
   "cell_type": "markdown",
   "metadata": {
    "colab_type": "text",
    "id": "umtifG4BOrhA"
   },
   "source": [
    "Softmax的定義：\n",
    "\n",
    "$S(y_i)=\\frac{e^{y_i}}{\\sum_{i} e^{y_i}}$"
   ]
  },
  {
   "cell_type": "code",
   "execution_count": null,
   "metadata": {
    "colab": {},
    "colab_type": "code",
    "id": "zF6kOy4AQI28"
   },
   "outputs": [],
   "source": [
    "import numpy as np\n",
    "y = np.array([2, 1, 0])\n",
    "y_p = np.exp(y)/np.exp(y).sum()"
   ]
  },
  {
   "cell_type": "code",
   "execution_count": null,
   "metadata": {
    "colab": {
     "base_uri": "https://localhost:8080/",
     "height": 34
    },
    "colab_type": "code",
    "id": "ZJWaSCMZQelK",
    "outputId": "5e3f424d-1703-49ab-e012-a12a11ebd821"
   },
   "outputs": [],
   "source": [
    "y_p"
   ]
  },
  {
   "cell_type": "code",
   "execution_count": null,
   "metadata": {
    "colab": {
     "base_uri": "https://localhost:8080/",
     "height": 34
    },
    "colab_type": "code",
    "id": "Vo-E2x3QQflk",
    "outputId": "06e2255c-8700-4009-a554-835519b861af"
   },
   "outputs": [],
   "source": [
    "y_p.sum()"
   ]
  },
  {
   "cell_type": "markdown",
   "metadata": {},
   "source": [
    "---"
   ]
  },
  {
   "cell_type": "code",
   "execution_count": null,
   "metadata": {
    "colab": {},
    "colab_type": "code",
    "id": "nVg66q6MyvLO"
   },
   "outputs": [],
   "source": [
    "# 1\n",
    "model.add(Dense(500, input_dim=784))\n",
    "model.add(Activation('sigmoid'))\n",
    "model.add(Dense(500))\n",
    "model.add(Activation('sigmoid'))\n",
    "model.add(Dense(10))\n",
    "model.add(Activation('softmax'))"
   ]
  },
  {
   "cell_type": "code",
   "execution_count": null,
   "metadata": {
    "colab": {},
    "colab_type": "code",
    "id": "fFcojtH7yvLJ"
   },
   "outputs": [],
   "source": [
    "# 2\n",
    "model.add(Dense(256, input_dim=784, kernel_initializer=\"normal\", Activation('relu')))\n",
    "model.add(Dense(10, kernel_initializer=\"normal\", Activation('softmax')))"
   ]
  },
  {
   "cell_type": "code",
   "execution_count": null,
   "metadata": {
    "colab": {},
    "colab_type": "code",
    "id": "THGSUli_OLxj"
   },
   "outputs": [],
   "source": [
    "# 3\n",
    "model.add(Dense(1000, input_dim=784, kernel_initializer=\"normal\", Activation('relu')))\n",
    "model.add(Dense(10, kernel_initializer=\"normal\", Activation('softmax')))"
   ]
  },
  {
   "cell_type": "code",
   "execution_count": null,
   "metadata": {
    "colab": {},
    "colab_type": "code",
    "id": "HjSZrJbdOUbf"
   },
   "outputs": [],
   "source": [
    "# 4\n",
    "model.add(Dense(1000, input_dim=784, kernel_initializer=\"normal\", Activation('relu')))\n",
    "model.add(Dropout(0.5))\n",
    "model.add(Dense(10, kernel_initializer=\"normal\", Activation('softmax')))"
   ]
  },
  {
   "cell_type": "markdown",
   "metadata": {
    "colab_type": "text",
    "id": "6PSbYxLlyvLQ"
   },
   "source": [
    "### 使用model.compile()將各層組裝起來"
   ]
  },
  {
   "cell_type": "code",
   "execution_count": null,
   "metadata": {
    "colab": {},
    "colab_type": "code",
    "id": "Rug9wmkgyvLR"
   },
   "outputs": [],
   "source": [
    "model.compile(loss='categorical_crossentropy', optimizer='adam', metrics=['accuracy'])"
   ]
  },
  {
   "cell_type": "markdown",
   "metadata": {
    "colab_type": "text",
    "id": "6T2HW7R3nT9P"
   },
   "source": [
    "### 使用 model.summary()檢視網路"
   ]
  },
  {
   "cell_type": "code",
   "execution_count": null,
   "metadata": {
    "colab": {
     "base_uri": "https://localhost:8080/",
     "height": 295
    },
    "colab_type": "code",
    "id": "qMGPB04FyvLV",
    "outputId": "6afd4ce8-2f62-4996-afb9-ea45f28cb75b"
   },
   "outputs": [],
   "source": [
    "model.summary()"
   ]
  },
  {
   "cell_type": "markdown",
   "metadata": {
    "colab_type": "text",
    "id": "R_Ba5WatyvLY"
   },
   "source": [
    "### 畫出結構圖"
   ]
  },
  {
   "cell_type": "code",
   "execution_count": null,
   "metadata": {
    "colab": {
     "base_uri": "https://localhost:8080/",
     "height": 533
    },
    "colab_type": "code",
    "id": "eXHRATiLyvLY",
    "outputId": "f37d16b3-dd50-4966-8e79-960bffe8dad7"
   },
   "outputs": [],
   "source": [
    "from tensorflow.keras.utils import plot_model\n",
    "plot_model(model, show_shapes=True, to_file='model01.png')"
   ]
  },
  {
   "cell_type": "markdown",
   "metadata": {
    "colab_type": "text",
    "id": "0IBycxfVyvLa"
   },
   "source": [
    "## 訓練神經網路"
   ]
  },
  {
   "cell_type": "markdown",
   "metadata": {
    "colab_type": "text",
    "id": "c8tt4JStn7Lt"
   },
   "source": [
    "### 使用 model.fit() 訓練網路"
   ]
  },
  {
   "cell_type": "code",
   "execution_count": null,
   "metadata": {
    "colab": {
     "base_uri": "https://localhost:8080/",
     "height": 401
    },
    "colab_type": "code",
    "id": "FOqrEu1WyvLb",
    "outputId": "329d1540-6c18-44a1-bc83-c92ee1dd3b37",
    "scrolled": true
   },
   "outputs": [],
   "source": [
    "# model.fit(x_train, y_train, batch_size=100, validation_split=0.2, epochs=20)\n",
    "train_history = model.fit(x_train, y_train, batch_size=100, validation_split=0.2, epochs=10)"
   ]
  },
  {
   "cell_type": "markdown",
   "metadata": {
    "colab_type": "text",
    "id": "ukWYj3FooDRA"
   },
   "source": [
    "### 畫出學習及驗證曲線"
   ]
  },
  {
   "cell_type": "code",
   "execution_count": null,
   "metadata": {
    "colab": {
     "base_uri": "https://localhost:8080/",
     "height": 34
    },
    "colab_type": "code",
    "id": "-T5ZNAZpmHeG",
    "outputId": "71e8c67d-f269-433d-b42e-8c3ec9fc2529"
   },
   "outputs": [],
   "source": [
    "train_history.history.keys()"
   ]
  },
  {
   "cell_type": "code",
   "execution_count": null,
   "metadata": {
    "colab": {
     "base_uri": "https://localhost:8080/",
     "height": 296
    },
    "colab_type": "code",
    "id": "XQjxsULrkyRi",
    "outputId": "9c36c963-56df-4833-f666-6ac13de7e337"
   },
   "outputs": [],
   "source": [
    "plt.plot(train_history.history['accuracy'], label='acc')\n",
    "plt.plot(train_history.history['val_accuracy'], label='val_acc')\n",
    "plt.xlabel('epoch')\n",
    "plt.ylabel('Acc')\n",
    "plt.legend(loc=\"upper left\")"
   ]
  },
  {
   "cell_type": "markdown",
   "metadata": {
    "colab_type": "text",
    "id": "9hJJa75eyvLd"
   },
   "source": [
    "## 使用我們的模型"
   ]
  },
  {
   "cell_type": "markdown",
   "metadata": {
    "colab_type": "text",
    "id": "VVgtV-wFokmC"
   },
   "source": [
    "### 使用 model.predict_classes() 來辨識圖形"
   ]
  },
  {
   "cell_type": "code",
   "execution_count": null,
   "metadata": {
    "colab": {},
    "colab_type": "code",
    "id": "-42qAgXWyvLd"
   },
   "outputs": [],
   "source": [
    "from ipywidgets import interact_manual"
   ]
  },
  {
   "cell_type": "code",
   "execution_count": null,
   "metadata": {
    "colab": {},
    "colab_type": "code",
    "id": "54anazBjyvLg"
   },
   "outputs": [],
   "source": [
    "predict = model.predict_classes(x_test)"
   ]
  },
  {
   "cell_type": "code",
   "execution_count": null,
   "metadata": {
    "colab": {},
    "colab_type": "code",
    "id": "4kley8VHyvLi"
   },
   "outputs": [],
   "source": [
    "def test(id):\n",
    "    plt.imshow(x_test[id].reshape(28,28), cmap=\"gray_r\")\n",
    "    print(\"辨識結果為:\", predict[id])"
   ]
  },
  {
   "cell_type": "code",
   "execution_count": null,
   "metadata": {
    "colab": {
     "base_uri": "https://localhost:8080/",
     "height": 346,
     "referenced_widgets": [
      "ed24920398574b58bc961a14effb5f57",
      "8951b99e9b9244cfa1b17f96cbc38f80",
      "da1bfdee35c7494dbcc25727a1268e6f",
      "21c87845c7544f8cb631ec518c0117a6",
      "d26ef24a72ed4d6980b9f0ba0163e0ca",
      "37d9d6007cc54057b7f8400fcb2f6978",
      "16b1e3aea8364a80b3837082c684478b",
      "b3154da89d634247b42f917c88bf9525",
      "8abb978f8b00443d80d147b71523ce7b",
      "7063c08d989f4abc9d905e8e22fa6a57"
     ]
    },
    "colab_type": "code",
    "id": "boHsY0BVyvLl",
    "outputId": "703be899-b722-4f57-badb-22e13842c7de"
   },
   "outputs": [],
   "source": [
    "interact_manual(test, id = (0, 9999));"
   ]
  },
  {
   "cell_type": "code",
   "execution_count": null,
   "metadata": {
    "colab": {
     "base_uri": "https://localhost:8080/",
     "height": 34
    },
    "colab_type": "code",
    "id": "xx5iEEZpyvLn",
    "outputId": "0762997e-0eda-4bfd-95e1-bb90cd95dc1c"
   },
   "outputs": [],
   "source": [
    "score = model.evaluate(x_test, y_test)"
   ]
  },
  {
   "cell_type": "code",
   "execution_count": null,
   "metadata": {
    "colab": {
     "base_uri": "https://localhost:8080/",
     "height": 34
    },
    "colab_type": "code",
    "id": "Wo_Lc-be14lU",
    "outputId": "448a748c-3b91-41cf-f441-b5be864ce4cf"
   },
   "outputs": [],
   "source": [
    "model.metrics_names"
   ]
  },
  {
   "cell_type": "code",
   "execution_count": null,
   "metadata": {
    "colab": {
     "base_uri": "https://localhost:8080/",
     "height": 51
    },
    "colab_type": "code",
    "id": "nwetzfh_yvLp",
    "outputId": "155f37f0-2db2-48f7-803d-686a29baf03f"
   },
   "outputs": [],
   "source": [
    "print('測試資料辨識正確率:', score[1])"
   ]
  },
  {
   "cell_type": "markdown",
   "metadata": {
    "colab_type": "text",
    "id": "6_bH2o9ZyvLr"
   },
   "source": [
    "## 儲存神經網路模型\n",
    "\n",
    "參考連結：\n",
    "\n",
    "https://keras.io/getting_started/faq/"
   ]
  },
  {
   "cell_type": "markdown",
   "metadata": {
    "colab_type": "text",
    "id": "eGjbbxoGyvLs"
   },
   "source": [
    "如果沒有 pyh5，需要安裝 :\n",
    "    \n",
    "    pip install h5py"
   ]
  },
  {
   "cell_type": "markdown",
   "metadata": {
    "colab_type": "text",
    "id": "8Gx0PWgmo6gB"
   },
   "source": [
    "### 儲存整個模型\n",
    "\n",
    "儲存 configurations + weights。"
   ]
  },
  {
   "cell_type": "code",
   "execution_count": null,
   "metadata": {
    "colab": {},
    "colab_type": "code",
    "id": "OYuL6vAYo6BK"
   },
   "outputs": [],
   "source": [
    "from tensorflow.keras.models import load_model\n",
    "\n",
    "model.save('my_model')  # creates a HDF5 file 'my_model.h5'\n",
    "del model  # deletes the existing model\n",
    "\n",
    "model = load_model('my_model')"
   ]
  },
  {
   "cell_type": "markdown",
   "metadata": {
    "colab_type": "text",
    "id": "8QaxdsPQo98c"
   },
   "source": [
    "### 只儲存權重(weights)"
   ]
  },
  {
   "cell_type": "code",
   "execution_count": null,
   "metadata": {
    "colab": {},
    "colab_type": "code",
    "id": "ZobfGkuKqamP"
   },
   "outputs": [],
   "source": [
    "model.save_weights('my_model_weights.h5')\n",
    "model.load_weights('my_model_weights.h5')"
   ]
  },
  {
   "cell_type": "code",
   "execution_count": null,
   "metadata": {
    "colab": {},
    "colab_type": "code",
    "id": "cF9sYyWZyvLs"
   },
   "outputs": [],
   "source": [
    "model_json = model.to_json()\n",
    "open('handwriting_model_architecture.json', 'w').write(model_json)\n",
    "model.save_weights('handwriting_model_weights.h5')"
   ]
  },
  {
   "cell_type": "markdown",
   "metadata": {
    "colab_type": "text",
    "id": "1aMLLVw8pD5T"
   },
   "source": [
    "### 只儲存模型架構"
   ]
  },
  {
   "cell_type": "code",
   "execution_count": null,
   "metadata": {
    "colab": {},
    "colab_type": "code",
    "id": "Ev4vBuFipQm0"
   },
   "outputs": [],
   "source": [
    "# save as JSON\n",
    "json_string = model.to_json()\n",
    "open('model.json', 'w').write(model_json)\n",
    "\n",
    "# model reconstruction from JSON:\n",
    "from keras.models import model_from_json\n",
    "model = model_from_json(json_string)"
   ]
  }
 ],
 "metadata": {
  "anaconda-cloud": {},
  "colab": {
   "collapsed_sections": [],
   "name": "5-01 用標準神經網路做手寫辨識(MNIST).ipynb",
   "provenance": []
  },
  "kernelspec": {
   "display_name": "Python 3",
   "language": "python",
   "name": "python3"
  },
  "language_info": {
   "codemirror_mode": {
    "name": "ipython",
    "version": 3
   },
   "file_extension": ".py",
   "mimetype": "text/x-python",
   "name": "python",
   "nbconvert_exporter": "python",
   "pygments_lexer": "ipython3",
   "version": "3.8.3"
  },
  "widgets": {
   "application/vnd.jupyter.widget-state+json": {
    "16b1e3aea8364a80b3837082c684478b": {
     "model_module": "@jupyter-widgets/base",
     "model_name": "LayoutModel",
     "state": {
      "_model_module": "@jupyter-widgets/base",
      "_model_module_version": "1.2.0",
      "_model_name": "LayoutModel",
      "_view_count": null,
      "_view_module": "@jupyter-widgets/base",
      "_view_module_version": "1.2.0",
      "_view_name": "LayoutView",
      "align_content": null,
      "align_items": null,
      "align_self": null,
      "border": null,
      "bottom": null,
      "display": null,
      "flex": null,
      "flex_flow": null,
      "grid_area": null,
      "grid_auto_columns": null,
      "grid_auto_flow": null,
      "grid_auto_rows": null,
      "grid_column": null,
      "grid_gap": null,
      "grid_row": null,
      "grid_template_areas": null,
      "grid_template_columns": null,
      "grid_template_rows": null,
      "height": null,
      "justify_content": null,
      "justify_items": null,
      "left": null,
      "margin": null,
      "max_height": null,
      "max_width": null,
      "min_height": null,
      "min_width": null,
      "object_fit": null,
      "object_position": null,
      "order": null,
      "overflow": null,
      "overflow_x": null,
      "overflow_y": null,
      "padding": null,
      "right": null,
      "top": null,
      "visibility": null,
      "width": null
     }
    },
    "21c87845c7544f8cb631ec518c0117a6": {
     "model_module": "@jupyter-widgets/controls",
     "model_name": "ButtonModel",
     "state": {
      "_dom_classes": [],
      "_model_module": "@jupyter-widgets/controls",
      "_model_module_version": "1.5.0",
      "_model_name": "ButtonModel",
      "_view_count": null,
      "_view_module": "@jupyter-widgets/controls",
      "_view_module_version": "1.5.0",
      "_view_name": "ButtonView",
      "button_style": "",
      "description": "Run Interact",
      "disabled": false,
      "icon": "",
      "layout": "IPY_MODEL_8abb978f8b00443d80d147b71523ce7b",
      "style": "IPY_MODEL_b3154da89d634247b42f917c88bf9525",
      "tooltip": ""
     }
    },
    "37d9d6007cc54057b7f8400fcb2f6978": {
     "model_module": "@jupyter-widgets/controls",
     "model_name": "SliderStyleModel",
     "state": {
      "_model_module": "@jupyter-widgets/controls",
      "_model_module_version": "1.5.0",
      "_model_name": "SliderStyleModel",
      "_view_count": null,
      "_view_module": "@jupyter-widgets/base",
      "_view_module_version": "1.2.0",
      "_view_name": "StyleView",
      "description_width": "",
      "handle_color": null
     }
    },
    "7063c08d989f4abc9d905e8e22fa6a57": {
     "model_module": "@jupyter-widgets/base",
     "model_name": "LayoutModel",
     "state": {
      "_model_module": "@jupyter-widgets/base",
      "_model_module_version": "1.2.0",
      "_model_name": "LayoutModel",
      "_view_count": null,
      "_view_module": "@jupyter-widgets/base",
      "_view_module_version": "1.2.0",
      "_view_name": "LayoutView",
      "align_content": null,
      "align_items": null,
      "align_self": null,
      "border": null,
      "bottom": null,
      "display": null,
      "flex": null,
      "flex_flow": null,
      "grid_area": null,
      "grid_auto_columns": null,
      "grid_auto_flow": null,
      "grid_auto_rows": null,
      "grid_column": null,
      "grid_gap": null,
      "grid_row": null,
      "grid_template_areas": null,
      "grid_template_columns": null,
      "grid_template_rows": null,
      "height": null,
      "justify_content": null,
      "justify_items": null,
      "left": null,
      "margin": null,
      "max_height": null,
      "max_width": null,
      "min_height": null,
      "min_width": null,
      "object_fit": null,
      "object_position": null,
      "order": null,
      "overflow": null,
      "overflow_x": null,
      "overflow_y": null,
      "padding": null,
      "right": null,
      "top": null,
      "visibility": null,
      "width": null
     }
    },
    "8951b99e9b9244cfa1b17f96cbc38f80": {
     "model_module": "@jupyter-widgets/base",
     "model_name": "LayoutModel",
     "state": {
      "_model_module": "@jupyter-widgets/base",
      "_model_module_version": "1.2.0",
      "_model_name": "LayoutModel",
      "_view_count": null,
      "_view_module": "@jupyter-widgets/base",
      "_view_module_version": "1.2.0",
      "_view_name": "LayoutView",
      "align_content": null,
      "align_items": null,
      "align_self": null,
      "border": null,
      "bottom": null,
      "display": null,
      "flex": null,
      "flex_flow": null,
      "grid_area": null,
      "grid_auto_columns": null,
      "grid_auto_flow": null,
      "grid_auto_rows": null,
      "grid_column": null,
      "grid_gap": null,
      "grid_row": null,
      "grid_template_areas": null,
      "grid_template_columns": null,
      "grid_template_rows": null,
      "height": null,
      "justify_content": null,
      "justify_items": null,
      "left": null,
      "margin": null,
      "max_height": null,
      "max_width": null,
      "min_height": null,
      "min_width": null,
      "object_fit": null,
      "object_position": null,
      "order": null,
      "overflow": null,
      "overflow_x": null,
      "overflow_y": null,
      "padding": null,
      "right": null,
      "top": null,
      "visibility": null,
      "width": null
     }
    },
    "8abb978f8b00443d80d147b71523ce7b": {
     "model_module": "@jupyter-widgets/base",
     "model_name": "LayoutModel",
     "state": {
      "_model_module": "@jupyter-widgets/base",
      "_model_module_version": "1.2.0",
      "_model_name": "LayoutModel",
      "_view_count": null,
      "_view_module": "@jupyter-widgets/base",
      "_view_module_version": "1.2.0",
      "_view_name": "LayoutView",
      "align_content": null,
      "align_items": null,
      "align_self": null,
      "border": null,
      "bottom": null,
      "display": null,
      "flex": null,
      "flex_flow": null,
      "grid_area": null,
      "grid_auto_columns": null,
      "grid_auto_flow": null,
      "grid_auto_rows": null,
      "grid_column": null,
      "grid_gap": null,
      "grid_row": null,
      "grid_template_areas": null,
      "grid_template_columns": null,
      "grid_template_rows": null,
      "height": null,
      "justify_content": null,
      "justify_items": null,
      "left": null,
      "margin": null,
      "max_height": null,
      "max_width": null,
      "min_height": null,
      "min_width": null,
      "object_fit": null,
      "object_position": null,
      "order": null,
      "overflow": null,
      "overflow_x": null,
      "overflow_y": null,
      "padding": null,
      "right": null,
      "top": null,
      "visibility": null,
      "width": null
     }
    },
    "b3154da89d634247b42f917c88bf9525": {
     "model_module": "@jupyter-widgets/controls",
     "model_name": "ButtonStyleModel",
     "state": {
      "_model_module": "@jupyter-widgets/controls",
      "_model_module_version": "1.5.0",
      "_model_name": "ButtonStyleModel",
      "_view_count": null,
      "_view_module": "@jupyter-widgets/base",
      "_view_module_version": "1.2.0",
      "_view_name": "StyleView",
      "button_color": null,
      "font_weight": ""
     }
    },
    "d26ef24a72ed4d6980b9f0ba0163e0ca": {
     "model_module": "@jupyter-widgets/output",
     "model_name": "OutputModel",
     "state": {
      "_dom_classes": [],
      "_model_module": "@jupyter-widgets/output",
      "_model_module_version": "1.0.0",
      "_model_name": "OutputModel",
      "_view_count": null,
      "_view_module": "@jupyter-widgets/output",
      "_view_module_version": "1.0.0",
      "_view_name": "OutputView",
      "layout": "IPY_MODEL_7063c08d989f4abc9d905e8e22fa6a57",
      "msg_id": "",
      "outputs": [
       {
        "metadata": {
         "tags": []
        },
        "output_type": "stream",
        "stream": "stdout",
        "text": "神經網路判斷為: 3\n"
       },
       {
        "image/png": "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\n",
        "metadata": {
         "needs_background": "light",
         "tags": []
        },
        "output_type": "display_data",
        "text/plain": "<Figure size 432x288 with 1 Axes>"
       }
      ]
     }
    },
    "da1bfdee35c7494dbcc25727a1268e6f": {
     "model_module": "@jupyter-widgets/controls",
     "model_name": "IntSliderModel",
     "state": {
      "_dom_classes": [],
      "_model_module": "@jupyter-widgets/controls",
      "_model_module_version": "1.5.0",
      "_model_name": "IntSliderModel",
      "_view_count": null,
      "_view_module": "@jupyter-widgets/controls",
      "_view_module_version": "1.5.0",
      "_view_name": "IntSliderView",
      "continuous_update": true,
      "description": "測試編號",
      "description_tooltip": null,
      "disabled": false,
      "layout": "IPY_MODEL_16b1e3aea8364a80b3837082c684478b",
      "max": 9999,
      "min": 0,
      "orientation": "horizontal",
      "readout": true,
      "readout_format": "d",
      "step": 1,
      "style": "IPY_MODEL_37d9d6007cc54057b7f8400fcb2f6978",
      "value": 1067
     }
    },
    "ed24920398574b58bc961a14effb5f57": {
     "model_module": "@jupyter-widgets/controls",
     "model_name": "VBoxModel",
     "state": {
      "_dom_classes": [
       "widget-interact"
      ],
      "_model_module": "@jupyter-widgets/controls",
      "_model_module_version": "1.5.0",
      "_model_name": "VBoxModel",
      "_view_count": null,
      "_view_module": "@jupyter-widgets/controls",
      "_view_module_version": "1.5.0",
      "_view_name": "VBoxView",
      "box_style": "",
      "children": [
       "IPY_MODEL_da1bfdee35c7494dbcc25727a1268e6f",
       "IPY_MODEL_21c87845c7544f8cb631ec518c0117a6",
       "IPY_MODEL_d26ef24a72ed4d6980b9f0ba0163e0ca"
      ],
      "layout": "IPY_MODEL_8951b99e9b9244cfa1b17f96cbc38f80"
     }
    }
   }
  }
 },
 "nbformat": 4,
 "nbformat_minor": 4
}
